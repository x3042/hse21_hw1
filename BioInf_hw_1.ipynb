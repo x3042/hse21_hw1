{
  "nbformat": 4,
  "nbformat_minor": 0,
  "metadata": {
    "kernelspec": {
      "display_name": "Python 3",
      "language": "python",
      "name": "python3"
    },
    "language_info": {
      "codemirror_mode": {
        "name": "ipython",
        "version": 3
      },
      "file_extension": ".py",
      "mimetype": "text/x-python",
      "name": "python",
      "nbconvert_exporter": "python",
      "pygments_lexer": "ipython3",
      "version": "3.7.4"
    },
    "colab": {
      "name": "BioInf_hw_1.ipynb",
      "provenance": []
    }
  },
  "cells": [
    {
      "cell_type": "code",
      "metadata": {
        "id": "9AfZZY-11_qo"
      },
      "source": [
        "import re"
      ],
      "execution_count": 1,
      "outputs": []
    },
    {
      "cell_type": "code",
      "metadata": {
        "id": "qRY1nrVO1_qs"
      },
      "source": [
        "def get_info(f, text, mode = True):\n",
        "    if mode:\n",
        "        print(f'Анализ {text}:\\n')\n",
        "    lengths = []\n",
        "    total_len = 0\n",
        "    num = 0\n",
        "    max_len = 0\n",
        "    length = 0\n",
        "    max_sequence = ''\n",
        "    curr_sequence = ''\n",
        "    for line in f:\n",
        "        if (line[0] == '>'):\n",
        "            if num != 0:\n",
        "                lengths.append(length)\n",
        "            num += 1\n",
        "            if length >= max_len:\n",
        "                max_len = length\n",
        "                max_sequence = curr_sequence\n",
        "            curr_sequence = ''\n",
        "            length = 0\n",
        "        else:\n",
        "            curr_sequence += line.strip()\n",
        "            length += len(line.strip())\n",
        "            total_len += len(line.strip())\n",
        "    if mode:      \n",
        "        print(f'Общее количество: {num},\\nОбщая длина: {total_len},\\nДлина самого длинного: {max_len},')\n",
        "        score = 0\n",
        "        lengths.sort(reverse = True) \n",
        "        for i in lengths:\n",
        "            score += i\n",
        "            if score >= total_len / 2:\n",
        "                print(f'N50: {i}\\n')\n",
        "                break\n",
        "    return max_sequence"
      ],
      "execution_count": 2,
      "outputs": []
    },
    {
      "cell_type": "code",
      "metadata": {
        "id": "_-Pp6E4I1_qu",
        "outputId": "4d10877e-1ec3-4df3-a76c-8b1d62d796fa",
        "colab": {
          "base_uri": "https://localhost:8080/"
        }
      },
      "source": [
        "file = open('Poil_contig.fa', 'r')\n",
        "_ = get_info(file, 'контигов')"
      ],
      "execution_count": 3,
      "outputs": [
        {
          "output_type": "stream",
          "name": "stdout",
          "text": [
            "Анализ контигов:\n",
            "\n",
            "Общее количество: 1452,\n",
            "Общая длина: 4000759,\n",
            "Длина самого длинного: 69312,\n",
            "N50: 11700\n",
            "\n"
          ]
        }
      ]
    },
    {
      "cell_type": "code",
      "metadata": {
        "id": "FKOT1cPY1_qw",
        "outputId": "20a18045-4e62-448d-d42d-e14121e046b7",
        "colab": {
          "base_uri": "https://localhost:8080/"
        }
      },
      "source": [
        "file = open('Poil_scaffold.fa', 'r')\n",
        "max_scaff = get_info(file, 'скаффолдов')\n",
        "print('Количество гэпов: ', re.sub(r'N{2,}', 'N', max_scaff).count(\"N\"))\n",
        "print(f'Общая длина гэпов: {max_scaff.count(\"N\")}')"
      ],
      "execution_count": 4,
      "outputs": [
        {
          "output_type": "stream",
          "name": "stdout",
          "text": [
            "Анализ скаффолдов:\n",
            "\n",
            "Общее количество: 65,\n",
            "Общая длина: 3876464,\n",
            "Длина самого длинного: 3835513,\n",
            "N50: 3835513\n",
            "\n",
            "Количество гэпов:  62\n",
            "Общая длина гэпов: 6353\n"
          ]
        }
      ]
    },
    {
      "cell_type": "code",
      "metadata": {
        "id": "kWZwEAjT1_qx",
        "outputId": "4ebf5800-0d06-4985-ddbb-dbe5740ed868",
        "colab": {
          "base_uri": "https://localhost:8080/"
        }
      },
      "source": [
        "file = open('Poil_gapClosed.fa', 'r')\n",
        "max_scaff = get_info(file, 'скаффолдов', False)\n",
        "print('Количество гэпов: ', re.sub(r'N{2,}', 'N', max_scaff).count(\"N\"))\n",
        "print(f'Общая длина гэпов: {max_scaff.count(\"N\")}')"
      ],
      "execution_count": 5,
      "outputs": [
        {
          "output_type": "stream",
          "name": "stdout",
          "text": [
            "Количество гэпов:  8\n",
            "Общая длина гэпов: 1719\n"
          ]
        }
      ]
    }
  ]
}